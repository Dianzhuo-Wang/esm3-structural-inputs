{
 "cells": [
  {
   "cell_type": "code",
   "execution_count": 74,
   "metadata": {},
   "outputs": [],
   "source": [
    "\n",
    "## Remove is you use an installed version of esm3\n",
    "import sys\n",
    "sys.path.append(\"../esm3\")\n",
    "##\n",
    "\n",
    "import numpy as np\n",
    "import torch\n",
    "import huggingface_hub\n",
    "\n",
    "from esm.utils.structure.protein_chain import ProteinChain\n",
    "from esm.models.esm3 import ESM3\n",
    "from esm.sdk import client\n",
    "from esm.sdk.api import (\n",
    "    ESMProtein\n",
    ")\n",
    "from esm.utils import encoding\n",
    "\n",
    "import pandas as pd\n",
    "\n",
    "import os\n",
    "from tqdm import tqdm\n",
    "\n",
    "import argparse\n",
    "from math import ceil\n"
   ]
  },
  {
   "cell_type": "code",
   "execution_count": null,
   "metadata": {},
   "outputs": [],
   "source": []
  },
  {
   "cell_type": "code",
   "execution_count": 75,
   "metadata": {},
   "outputs": [],
   "source": [
    "folder_for_embeddings = \"../data\"\n",
    "sequences_to_embed = folder_for_embeddings + \"/\" + \"df_Desai_15loci_sequence.npy\"\n",
    "sequences = np.load(sequences_to_embed, allow_pickle=True)"
   ]
  },
  {
   "cell_type": "code",
   "execution_count": 76,
   "metadata": {},
   "outputs": [],
   "source": [
    "files = [f for f in os.listdir(\".\") if \"noisy_\" in f]"
   ]
  },
  {
   "cell_type": "code",
   "execution_count": 77,
   "metadata": {},
   "outputs": [
    {
     "data": {
      "text/plain": [
       "['6xf5_noisy_0.01.pdb',\n",
       " '6xf5_noisy_0.1.pdb',\n",
       " '6xf5_noisy_0.2.pdb',\n",
       " '6xf5_noisy_0.05.pdb',\n",
       " '6xf5_noisy_0.5.pdb']"
      ]
     },
     "execution_count": 77,
     "metadata": {},
     "output_type": "execute_result"
    }
   ],
   "source": [
    "files"
   ]
  },
  {
   "cell_type": "code",
   "execution_count": 78,
   "metadata": {},
   "outputs": [
    {
     "name": "stderr",
     "output_type": "stream",
     "text": [
      "/n/holyscratch01/shakhnovich_lab/thomasloux/shakhnovitch-research/ML_Kd_ESM3/protein-structures/../esm3/esm/pretrained.py:68: FutureWarning: You are using `torch.load` with `weights_only=False` (the current default value), which uses the default pickle module implicitly. It is possible to construct malicious pickle data which will execute arbitrary code during unpickling (See https://github.com/pytorch/pytorch/blob/main/SECURITY.md#untrusted-models for more details). In a future release, the default value for `weights_only` will be flipped to `True`. This limits the functions that could be executed during unpickling. Arbitrary objects will no longer be allowed to be loaded via this mode unless they are explicitly allowlisted by the user via `torch.serialization.add_safe_globals`. We recommend you start setting `weights_only=True` for any use case where you don't have full control of the loaded file. Please open an issue on GitHub for any issues related to this experimental feature.\n",
      "  state_dict = torch.load(\n"
     ]
    }
   ],
   "source": [
    "model =  ESM3.from_pretrained(\"esm3_sm_open_v1\", device=torch.device(\"cuda\"))"
   ]
  },
  {
   "cell_type": "code",
   "execution_count": 79,
   "metadata": {},
   "outputs": [
    {
     "name": "stderr",
     "output_type": "stream",
     "text": [
      "/n/home13/tloux/.conda/envs/esm/lib/python3.11/site-packages/biotite/structure/io/pdb/file.py:468: UserWarning: 3117 elements were guessed from atom name\n",
      "  warnings.warn(\n",
      "/n/holyscratch01/shakhnovich_lab/thomasloux/shakhnovitch-research/ML_Kd_ESM3/protein-structures/../esm3/esm/pretrained.py:29: FutureWarning: You are using `torch.load` with `weights_only=False` (the current default value), which uses the default pickle module implicitly. It is possible to construct malicious pickle data which will execute arbitrary code during unpickling (See https://github.com/pytorch/pytorch/blob/main/SECURITY.md#untrusted-models for more details). In a future release, the default value for `weights_only` will be flipped to `True`. This limits the functions that could be executed during unpickling. Arbitrary objects will no longer be allowed to be loaded via this mode unless they are explicitly allowlisted by the user via `torch.serialization.add_safe_globals`. We recommend you start setting `weights_only=True` for any use case where you don't have full control of the loaded file. Please open an issue on GitHub for any issues related to this experimental feature.\n",
      "  state_dict = torch.load(\n",
      "/n/holyscratch01/shakhnovich_lab/thomasloux/shakhnovitch-research/ML_Kd_ESM3/protein-structures/../esm3/esm/models/vqvae.py:289: FutureWarning: `torch.cuda.amp.autocast(args...)` is deprecated. Please use `torch.amp.autocast('cuda', args...)` instead.\n",
      "  with torch.no_grad(), torch.cuda.amp.autocast(enabled=False):  # type: ignore\n"
     ]
    }
   ],
   "source": [
    "batch = [ESMProtein.from_protein_chain(ProteinChain.from_pdb(seq)) for seq in files]\n",
    "batch = [model.encode(seq) for seq in batch]\n",
    "embeddings, _ = model.get_embeddings_batched(batch)"
   ]
  },
  {
   "cell_type": "code",
   "execution_count": 80,
   "metadata": {},
   "outputs": [],
   "source": [
    "embeddings = embeddings.mean(dim=1).cpu().detach().numpy()"
   ]
  },
  {
   "cell_type": "code",
   "execution_count": 81,
   "metadata": {},
   "outputs": [
    {
     "data": {
      "text/plain": [
       "(5, 1536)"
      ]
     },
     "execution_count": 81,
     "metadata": {},
     "output_type": "execute_result"
    }
   ],
   "source": [
    "embeddings.shape"
   ]
  },
  {
   "cell_type": "code",
   "execution_count": 82,
   "metadata": {},
   "outputs": [],
   "source": [
    "wt_file = [\"mutant-evoEf-6xf5-rbd-only/1/1_correct_mutant_no_relax.pdb\"]"
   ]
  },
  {
   "cell_type": "code",
   "execution_count": 83,
   "metadata": {},
   "outputs": [
    {
     "name": "stderr",
     "output_type": "stream",
     "text": [
      "/n/home13/tloux/.conda/envs/esm/lib/python3.11/site-packages/biotite/structure/io/pdb/file.py:468: UserWarning: 3117 elements were guessed from atom name\n",
      "  warnings.warn(\n",
      "/n/holyscratch01/shakhnovich_lab/thomasloux/shakhnovitch-research/ML_Kd_ESM3/protein-structures/../esm3/esm/models/vqvae.py:289: FutureWarning: `torch.cuda.amp.autocast(args...)` is deprecated. Please use `torch.amp.autocast('cuda', args...)` instead.\n",
      "  with torch.no_grad(), torch.cuda.amp.autocast(enabled=False):  # type: ignore\n"
     ]
    }
   ],
   "source": [
    "batch_wt = [ESMProtein.from_protein_chain(ProteinChain.from_pdb(seq)) for seq in wt_file]\n",
    "batch_wt = [model.encode(seq) for seq in batch_wt]\n",
    "embeddings_wt, _ = model.get_embeddings_batched(batch_wt)\n",
    "embeddings_wt = embeddings_wt.mean(dim=1).cpu().detach().numpy()[0]"
   ]
  },
  {
   "cell_type": "code",
   "execution_count": 84,
   "metadata": {},
   "outputs": [
    {
     "data": {
      "text/plain": [
       "array([[0.9999953 ],\n",
       "       [0.9996752 ],\n",
       "       [0.99675167],\n",
       "       [0.99992645],\n",
       "       [0.9590763 ]], dtype=float32)"
      ]
     },
     "execution_count": 84,
     "metadata": {},
     "output_type": "execute_result"
    }
   ],
   "source": [
    "# cosine similarity\n",
    "from sklearn.metrics.pairwise import cosine_similarity\n",
    "\n",
    "cosine_similarity(embeddings, embeddings_wt.reshape(1, -1))"
   ]
  },
  {
   "cell_type": "code",
   "execution_count": 85,
   "metadata": {},
   "outputs": [
    {
     "data": {
      "text/plain": [
       "array([[  28.934711],\n",
       "       [ 242.98268 ],\n",
       "       [ 822.0334  ],\n",
       "       [ 116.01453 ],\n",
       "       [2714.2312  ]], dtype=float32)"
      ]
     },
     "execution_count": 85,
     "metadata": {},
     "output_type": "execute_result"
    }
   ],
   "source": [
    "# Distance L2\n",
    "from sklearn.metrics.pairwise import euclidean_distances\n",
    "\n",
    "euclidean_distances(embeddings, embeddings_wt.reshape(1, -1))\n"
   ]
  },
  {
   "cell_type": "code",
   "execution_count": 38,
   "metadata": {},
   "outputs": [],
   "source": [
    "weights_random = np.random.rand(embeddings.shape[1])\n",
    "weights_random = weights_random / weights_random.sum()"
   ]
  },
  {
   "cell_type": "code",
   "execution_count": 39,
   "metadata": {},
   "outputs": [
    {
     "data": {
      "text/plain": [
       "array([-0.00551926,  0.0309702 ,  0.57443128,  0.02507479,  2.33023471])"
      ]
     },
     "execution_count": 39,
     "metadata": {},
     "output_type": "execute_result"
    }
   ],
   "source": [
    "# scalar product\n",
    "np.dot(embeddings, weights_random) - np.dot(embeddings_wt, weights_random)"
   ]
  },
  {
   "cell_type": "markdown",
   "metadata": {},
   "source": [
    "# Compare for datasets"
   ]
  },
  {
   "cell_type": "code",
   "execution_count": 104,
   "metadata": {},
   "outputs": [],
   "source": [
    "def difference_cos_dist_from_own_wt(embeddings, index_wt=2**14):\n",
    "    cosine = cosine_similarity(embeddings, embeddings[index_wt].reshape(1, -1))\n",
    "    euclidean = euclidean_distances(embeddings, embeddings[index_wt].reshape(1, -1))\n",
    "    print(f\"Mean cosine similarity: {cosine.mean()} +/- {cosine.std()} in logscale {-np.log(1 - cosine.mean())}\")\n",
    "    print(f\"Mean euclidean distance: {euclidean.mean()} +/- {euclidean.std()}\")\n",
    "\n",
    "def difference_cos_dist_from(embeddings, embeddings_wt):\n",
    "    cosine = cosine_similarity(embeddings, embeddings_wt.reshape(1, -1))\n",
    "    euclidean = euclidean_distances(embeddings, embeddings_wt.reshape(1, -1))\n",
    "    print(f\"Mean cosine similarity: {cosine.mean()} +/- {cosine.std()} in logscale {-np.log(1 - cosine.mean())}\")\n",
    "    print(f\"Mean euclidean distance: {euclidean.mean()} +/- {euclidean.std()}\")"
   ]
  },
  {
   "cell_type": "markdown",
   "metadata": {},
   "source": [
    "# Load Noisy dataset"
   ]
  },
  {
   "cell_type": "code",
   "execution_count": 122,
   "metadata": {},
   "outputs": [
    {
     "name": "stderr",
     "output_type": "stream",
     "text": [
      "/tmp/ipykernel_1651732/2655588167.py:1: FutureWarning: You are using `torch.load` with `weights_only=False` (the current default value), which uses the default pickle module implicitly. It is possible to construct malicious pickle data which will execute arbitrary code during unpickling (See https://github.com/pytorch/pytorch/blob/main/SECURITY.md#untrusted-models for more details). In a future release, the default value for `weights_only` will be flipped to `True`. This limits the functions that could be executed during unpickling. Arbitrary objects will no longer be allowed to be loaded via this mode unless they are explicitly allowlisted by the user via `torch.serialization.add_safe_globals`. We recommend you start setting `weights_only=True` for any use case where you don't have full control of the loaded file. Please open an issue on GitHub for any issues related to this experimental feature.\n",
      "  noisy = torch.load('../data/embeddings_withCoordinates_noisy_WT_6xf5_01.pt')\n",
      "/tmp/ipykernel_1651732/2655588167.py:2: FutureWarning: You are using `torch.load` with `weights_only=False` (the current default value), which uses the default pickle module implicitly. It is possible to construct malicious pickle data which will execute arbitrary code during unpickling (See https://github.com/pytorch/pytorch/blob/main/SECURITY.md#untrusted-models for more details). In a future release, the default value for `weights_only` will be flipped to `True`. This limits the functions that could be executed during unpickling. Arbitrary objects will no longer be allowed to be loaded via this mode unless they are explicitly allowlisted by the user via `torch.serialization.add_safe_globals`. We recommend you start setting `weights_only=True` for any use case where you don't have full control of the loaded file. Please open an issue on GitHub for any issues related to this experimental feature.\n",
      "  wt_struct_same_for_all = torch.load('../data/embeddings_withCoordinates_Isolated_WT_down_state_6xf5.pt')\n",
      "/tmp/ipykernel_1651732/2655588167.py:3: FutureWarning: You are using `torch.load` with `weights_only=False` (the current default value), which uses the default pickle module implicitly. It is possible to construct malicious pickle data which will execute arbitrary code during unpickling (See https://github.com/pytorch/pytorch/blob/main/SECURITY.md#untrusted-models for more details). In a future release, the default value for `weights_only` will be flipped to `True`. This limits the functions that could be executed during unpickling. Arbitrary objects will no longer be allowed to be loaded via this mode unless they are explicitly allowlisted by the user via `torch.serialization.add_safe_globals`. We recommend you start setting `weights_only=True` for any use case where you don't have full control of the loaded file. Please open an issue on GitHub for any issues related to this experimental feature.\n",
      "  no_relax = torch.load('../data/embeddings_withCoordinates_no_relax_mutated_WT_6xf5.pt')\n",
      "/tmp/ipykernel_1651732/2655588167.py:4: FutureWarning: You are using `torch.load` with `weights_only=False` (the current default value), which uses the default pickle module implicitly. It is possible to construct malicious pickle data which will execute arbitrary code during unpickling (See https://github.com/pytorch/pytorch/blob/main/SECURITY.md#untrusted-models for more details). In a future release, the default value for `weights_only` will be flipped to `True`. This limits the functions that could be executed during unpickling. Arbitrary objects will no longer be allowed to be loaded via this mode unless they are explicitly allowlisted by the user via `torch.serialization.add_safe_globals`. We recommend you start setting `weights_only=True` for any use case where you don't have full control of the loaded file. Please open an issue on GitHub for any issues related to this experimental feature.\n",
      "  md = torch.load('../data/embeddings_withCoordinates__md_frame_WT_6xf5.pt')\n",
      "/tmp/ipykernel_1651732/2655588167.py:5: FutureWarning: You are using `torch.load` with `weights_only=False` (the current default value), which uses the default pickle module implicitly. It is possible to construct malicious pickle data which will execute arbitrary code during unpickling (See https://github.com/pytorch/pytorch/blob/main/SECURITY.md#untrusted-models for more details). In a future release, the default value for `weights_only` will be flipped to `True`. This limits the functions that could be executed during unpickling. Arbitrary objects will no longer be allowed to be loaded via this mode unless they are explicitly allowlisted by the user via `torch.serialization.add_safe_globals`. We recommend you start setting `weights_only=True` for any use case where you don't have full control of the loaded file. Please open an issue on GitHub for any issues related to this experimental feature.\n",
      "  minim_gromacs = torch.load('../data/embeddings_withCoordinates_minim_gromacs_mutated_6xf5.pt')\n"
     ]
    }
   ],
   "source": [
    "noisy = torch.load('../data/embeddings_withCoordinates_noisy_WT_6xf5_01.pt')\n",
    "noisy_not_working = torch.load('../data/embeddings_withCoordinates_noisy_WT_6xf5.pt')\n",
    "wt_struct_same_for_all = torch.load('../data/embeddings_withCoordinates_Isolated_WT_down_state_6xf5.pt')\n",
    "no_relax = torch.load('../data/embeddings_withCoordinates_no_relax_mutated_WT_6xf5.pt')\n",
    "md = torch.load('../data/embeddings_withCoordinates__md_frame_WT_6xf5.pt')\n",
    "minim_gromacs = torch.load('../data/embeddings_withCoordinates_minim_gromacs_mutated_6xf5.pt')"
   ]
  },
  {
   "cell_type": "code",
   "execution_count": 123,
   "metadata": {},
   "outputs": [
    {
     "name": "stdout",
     "output_type": "stream",
     "text": [
      "Mean cosine similarity: 0.9997641444206238 +/- 9.51098627410829e-05 in logscale 8.352290892053263\n",
      "Mean euclidean distance: 213.0749053955078 +/- 44.1492805480957\n"
     ]
    }
   ],
   "source": [
    "difference_cos_dist_from_own_wt(noisy)"
   ]
  },
  {
   "cell_type": "code",
   "execution_count": 106,
   "metadata": {},
   "outputs": [
    {
     "name": "stdout",
     "output_type": "stream",
     "text": [
      "Mean cosine similarity: 0.9999495148658752 +/- 2.177390160795767e-05 in logscale 9.893831638786633\n",
      "Mean euclidean distance: 96.72863006591797 +/- 21.2951602935791\n"
     ]
    }
   ],
   "source": [
    "difference_cos_dist_from_own_wt(wt_struct_same_for_all)"
   ]
  },
  {
   "cell_type": "code",
   "execution_count": 107,
   "metadata": {},
   "outputs": [
    {
     "name": "stdout",
     "output_type": "stream",
     "text": [
      "Mean cosine similarity: 0.9999279975891113 +/- 2.5892122721415944e-05 in logscale 9.538810954943926\n",
      "Mean euclidean distance: 113.27227783203125 +/- 21.040546417236328\n"
     ]
    }
   ],
   "source": [
    "difference_cos_dist_from_own_wt(no_relax)"
   ]
  },
  {
   "cell_type": "code",
   "execution_count": 108,
   "metadata": {},
   "outputs": [
    {
     "name": "stdout",
     "output_type": "stream",
     "text": [
      "Mean cosine similarity: 0.9993987083435059 +/- 0.0001352711842628196 in logscale 7.416430455793932\n",
      "Mean euclidean distance: 333.9731750488281 +/- 38.50557327270508\n"
     ]
    }
   ],
   "source": [
    "difference_cos_dist_from_own_wt(md)"
   ]
  },
  {
   "cell_type": "code",
   "execution_count": 109,
   "metadata": {},
   "outputs": [
    {
     "name": "stdout",
     "output_type": "stream",
     "text": [
      "Mean cosine similarity: 0.9996281862258911 +/- 0.00011530718620633706 in logscale 7.897117436270938\n",
      "Mean euclidean distance: 260.2164611816406 +/- 40.65966796875\n"
     ]
    }
   ],
   "source": [
    "difference_cos_dist_from_own_wt(minim_gromacs)"
   ]
  },
  {
   "cell_type": "markdown",
   "metadata": {},
   "source": [
    "# Compare to reference"
   ]
  },
  {
   "cell_type": "code",
   "execution_count": 71,
   "metadata": {},
   "outputs": [
    {
     "name": "stdout",
     "output_type": "stream",
     "text": [
      "Mean cosine similarity: 0.9994924068450928 +/- 0.00012710451846942306\n",
      "Mean euclidean distance: 317.1007385253906 +/- 41.62765121459961\n"
     ]
    }
   ],
   "source": [
    "difference_cos_dist_from(noisy, embeddings_wt)"
   ]
  },
  {
   "cell_type": "code",
   "execution_count": 72,
   "metadata": {},
   "outputs": [
    {
     "name": "stdout",
     "output_type": "stream",
     "text": [
      "Mean cosine similarity: 0.9953235387802124 +/- 7.669304613955319e-05\n",
      "Mean euclidean distance: 977.3038330078125 +/- 9.230360984802246\n"
     ]
    }
   ],
   "source": [
    "difference_cos_dist_from(wt_struct_same_for_all, embeddings_wt)"
   ]
  },
  {
   "cell_type": "code",
   "execution_count": 73,
   "metadata": {},
   "outputs": [
    {
     "name": "stdout",
     "output_type": "stream",
     "text": [
      "Mean cosine similarity: 0.999830961227417 +/- 2.5893703423207626e-05\n",
      "Mean euclidean distance: 176.771484375 +/- 13.31243896484375\n"
     ]
    }
   ],
   "source": [
    "difference_cos_dist_from(no_relax, embeddings_wt)"
   ]
  },
  {
   "cell_type": "code",
   "execution_count": 89,
   "metadata": {},
   "outputs": [
    {
     "name": "stdout",
     "output_type": "stream",
     "text": [
      "Mean cosine similarity: 0.9987190961837769 +/- 0.00021908928465563804\n",
      "Mean euclidean distance: 487.70452880859375 +/- 44.632999420166016\n"
     ]
    }
   ],
   "source": [
    "difference_cos_dist_from(md, embeddings_wt)"
   ]
  },
  {
   "cell_type": "code",
   "execution_count": 92,
   "metadata": {},
   "outputs": [
    {
     "name": "stdout",
     "output_type": "stream",
     "text": [
      "Mean cosine similarity: 0.9995127320289612 +/- 0.00010684359585866332\n",
      "Mean euclidean distance: 305.6966247558594 +/- 36.022396087646484\n"
     ]
    }
   ],
   "source": [
    "difference_cos_dist_from(minim_gromacs, embeddings_wt)"
   ]
  },
  {
   "cell_type": "markdown",
   "metadata": {},
   "source": [
    "# Check RMSD"
   ]
  },
  {
   "cell_type": "code",
   "execution_count": 119,
   "metadata": {},
   "outputs": [
    {
     "name": "stderr",
     "output_type": "stream",
     "text": [
      "/n/home13/tloux/.conda/envs/esm/lib/python3.11/site-packages/biotite/structure/io/pdb/file.py:468: UserWarning: 62508 elements were guessed from atom name\n",
      "  warnings.warn(\n"
     ]
    }
   ],
   "source": [
    "indexes = range(1, 100)\n",
    "index_wt = 2**14 + 1\n",
    "suffix = \"minim_gromacs\"\n",
    "structure_wt = ProteinChain.from_pdb(f\"mutant-evoEf-6xf5-rbd-only/{index_wt}/{index_wt}_{suffix}.pdb\")\n",
    "\n",
    "structures = [ProteinChain.from_pdb(f\"mutant-evoEf-6xf5-rbd-only/{i}/{i}_{suffix}.pdb\") for i in indexes]"
   ]
  },
  {
   "cell_type": "code",
   "execution_count": 120,
   "metadata": {},
   "outputs": [],
   "source": [
    "rmsd = [structure_wt.rmsd(structure) for structure in structures]"
   ]
  },
  {
   "cell_type": "code",
   "execution_count": 121,
   "metadata": {},
   "outputs": [
    {
     "data": {
      "text/plain": [
       "(0.3987810756462255, 0.008843511187527542)"
      ]
     },
     "execution_count": 121,
     "metadata": {},
     "output_type": "execute_result"
    }
   ],
   "source": [
    "np.mean(rmsd), np.std(rmsd)"
   ]
  },
  {
   "cell_type": "code",
   "execution_count": null,
   "metadata": {},
   "outputs": [],
   "source": []
  }
 ],
 "metadata": {
  "kernelspec": {
   "display_name": "Python 3 (ipykernel)",
   "language": "python",
   "name": "python3"
  },
  "language_info": {
   "codemirror_mode": {
    "name": "ipython",
    "version": 3
   },
   "file_extension": ".py",
   "mimetype": "text/x-python",
   "name": "python",
   "nbconvert_exporter": "python",
   "pygments_lexer": "ipython3",
   "version": "3.11.9"
  }
 },
 "nbformat": 4,
 "nbformat_minor": 2
}
